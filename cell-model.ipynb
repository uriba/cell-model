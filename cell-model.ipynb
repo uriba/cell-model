{
 "metadata": {
  "name": ""
 },
 "nbformat": 3,
 "nbformat_minor": 0,
 "worksheets": [
  {
   "cells": [
    {
     "cell_type": "heading",
     "level": 1,
     "metadata": {},
     "source": [
      "Symplistic cell model emulation containing basic elements of the central dogma and metabolism"
     ]
    },
    {
     "cell_type": "code",
     "collapsed": false,
     "input": [
      "from sympy import *\n",
      "from math import log\n",
      "\n",
      "#Constants:\n",
      "#Weights:\n",
      "RibosomeMass              = 2700000.0 #BIND100118\n",
      "RNAPolymeraseMass         =  500000.0 #BIND104925\n",
      "#DNAPolymeraseMass         =  790000.0 #BIND104931\n",
      "tRNAMass                  = 25000.0 #BIND101177\n",
      "AverageAAMass             = 110.0\n",
      "AverageNucleotideMass     = 325.0\n",
      "\n",
      "#Ratios\n",
      "ProteinFractionOfRibosome = 1.0/3\n",
      "RNAFractionOfRibosome     = 2.0/3\n",
      "RibosomalProteinAA        = (RibosomeMass * 1/3) / AverageAAMass\n",
      "tRNAPerRibosome           = 5.0 #Rough minimal value, assuming each ribosome has 3 bound tRNA's, one being charged, and another one floating around.\n",
      "\n",
      "#Rates\n",
      "#Translation rate in aa per second:\n",
      "TranslationRate = 20.0\n",
      "\n",
      "#Transcription rate in nucletotides per second\n",
      "TranscriptionRate = 80.0\n",
      "\n",
      "#DNA replication rate in nucletotides per second\n",
      "#DNAReplicationRate = 600.0 #BIND109251 \n",
      "\n",
      "#Cellular components are measured as fractions of the biomass.\n",
      "Ribosomes = Symbol('Ribosomes',positive=True)\n",
      "RibosomalProtein = Ribosomes*ProteinFractionOfRibosome\n",
      "RibosomalRNA = Ribosomes*RNAFractionOfRibosome\n",
      "\n",
      "tRNAs = (Ribosomes/RibosomeMass)*tRNAPerRibosome*tRNAMass\n",
      "\n",
      "RNAPolymerase = Symbol('RNAPolymerase',positive=True)\n",
      "#DNAPolymerase = Symbol('DNAPolymerase',positive=True)\n",
      "\n",
      "#Growth rate is in the natural base, e.\n",
      "GrowthRate = Symbol('GrowthRate')\n",
      "\n",
      "#Total protein is the sum of all protein components:\n",
      "Protein=RibosomalProtein+RNAPolymerase #+DNAPolymerase\n",
      "\n",
      "#Total RNA is ribosomal RNA:\n",
      "RNA=RibosomalRNA + tRNAs\n",
      "\n",
      "#AA per ribosome in proteome\n",
      "PerRibosomeAA = (Protein/RibosomalProtein) * RibosomalProteinAA\n",
      "\n",
      "#A constant to connect the mass of RNA to the mass of RNAPolymerase.\n",
      "PerRNAPolymeraseRNAMass = RNAPolymeraseMass * RNA / RNAPolymerase\n",
      "PerRNAPNucleotides = PerRNAPolymeraseRNAMass / AverageNucleotideMass\n",
      "\n",
      "#Protein growth rate:\n",
      "ProteinDoubling = PerRibosomeAA/TranslationRate\n",
      "\n",
      "#RNA growth rate:\n",
      "RNADoubling = PerRNAPNucleotides/TranscriptionRate\n",
      "\n",
      "#Under balanced growth the two are equal:\n",
      "Growth = Eq(RNADoubling,ProteinDoubling)\n",
      "\n",
      "print Growth\n",
      "[sol] = solve([Growth,Eq(Protein+RNA,1)])\n",
      "results = {}\n",
      "results['RNAPolymerase'] = N(sol[RNAPolymerase])\n",
      "results['Ribosomes'] = N(sol[Ribosomes])\n",
      "results['tRNAs'] = (N(sol[Ribosomes])/RibosomeMass)*tRNAPerRibosome*tRNAMass\n",
      "results['RibosomalProtein'] = ProteinFractionOfRibosome*results['Ribosomes']\n",
      "results['RibosomalRNA'] = RNAFractionOfRibosome*results['Ribosomes']\n",
      "results['Protein'] = results['RibosomalProtein'] + results['RNAPolymerase']\n",
      "results['RNA'] = results['RibosomalRNA'] + results['tRNAs']\n",
      "results['PerRibosomeAA'] = (results['Protein']/results['RibosomalProtein']) * RibosomalProteinAA\n",
      "results['PerRNAPolymeraseRNAMass'] = RNAPolymeraseMass * results['RNA'] / results['RNAPolymerase']\n",
      "results['PerRNAPNucleotides'] = results['PerRNAPolymeraseRNAMass'] / AverageNucleotideMass\n",
      "results['ProteinDoubling'] = results['PerRibosomeAA']/TranslationRate\n",
      "results['RNADoubling'] = results['PerRNAPNucleotides']/TranscriptionRate\n",
      "\n",
      "for key,value in results.iteritems():\n",
      "    print \"%s\\t:%f\" % (key,value)"
     ],
     "language": "python",
     "metadata": {},
     "outputs": [
      {
       "output_type": "stream",
       "stream": "stdout",
       "text": [
        "13.7108262108262*Ribosomes/RNAPolymerase == 1227.27272727273*(RNAPolymerase + 0.333333333333333*Ribosomes)/Ribosomes\n",
        "RNADoubling\t:446.755624"
       ]
      },
      {
       "output_type": "stream",
       "stream": "stdout",
       "text": [
        "\n",
        "PerRNAPolymeraseRNAMass\t:11615646.216751\n",
        "PerRibosomeAA\t:8935.112474\n",
        "RNAPolymerase\t:0.028496\n",
        "RNA\t:0.661998\n",
        "RibosomalProtein\t:0.309506\n",
        "RibosomalRNA\t:0.619011\n",
        "ProteinDoubling\t:446.755624\n",
        "tRNAs\t:0.042987\n",
        "PerRNAPNucleotides\t:35740.449898\n",
        "Protein\t:0.338002\n",
        "Ribosomes\t:0.928517\n"
       ]
      }
     ],
     "prompt_number": 2
    },
    {
     "cell_type": "code",
     "collapsed": false,
     "input": [],
     "language": "python",
     "metadata": {},
     "outputs": []
    }
   ],
   "metadata": {}
  }
 ]
}